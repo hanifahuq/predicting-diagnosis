{
 "cells": [
  {
   "cell_type": "markdown",
   "metadata": {},
   "source": [
    "# Contents\n",
    "\n",
    "Overall, I will have two stages of modelling to conduct my analysis:\n",
    "\n",
    "- STAGE 1: Predict diagnosis based on MRI features, using a scaler, feature selection and a classifier.\n",
    "- STAGE 2: Predict age based on the predicted diagnosis from stage 1 and MRI features using a scaler, feature selection and regressor.\n",
    "\n",
    "I plan to split my data according to this, so I will have 5 groups:\n",
    "- Training and validation sets for stage 1\n",
    "- Training and validation sets for stage 2\n",
    "- Test set\n",
    "\n",
    "1. Load Data\n",
    "2. Split data into train, val and test\n",
    "3. Find the best classifier model\n",
    "4. Find the best regression model \n",
    "5. Create final pipeline\n",
    "6. Use test set"
   ]
  },
  {
   "cell_type": "markdown",
   "metadata": {},
   "source": [
    "## Load libraries and data"
   ]
  },
  {
   "cell_type": "code",
   "execution_count": 1,
   "metadata": {},
   "outputs": [],
   "source": [
    "import pandas as pd\n",
    "import matplotlib.pyplot as plt\n",
    "import seaborn as sns\n",
    "import numpy as np\n",
    "from os import getcwd\n",
    "from sklearn.model_selection import StratifiedShuffleSplit, GridSearchCV, KFold\n",
    "from sklearn.preprocessing import StandardScaler\n",
    "from sklearn.pipeline import make_pipeline, Pipeline\n",
    "from sklearn.feature_selection import SelectFpr, f_classif\n",
    "from sklearn.metrics import confusion_matrix, ConfusionMatrixDisplay, f1_score, accuracy_score, mean_squared_error, mean_absolute_percentage_error, r2_score\n",
    "from sklearn.svm import SVC\n",
    "from sklearn.ensemble import RandomForestClassifier, RandomForestRegressor\n",
    "from sklearn.linear_model import ElasticNet"
   ]
  },
  {
   "cell_type": "code",
   "execution_count": 5,
   "metadata": {},
   "outputs": [
    {
     "data": {
      "text/html": [
       "<div>\n",
       "<style scoped>\n",
       "    .dataframe tbody tr th:only-of-type {\n",
       "        vertical-align: middle;\n",
       "    }\n",
       "\n",
       "    .dataframe tbody tr th {\n",
       "        vertical-align: top;\n",
       "    }\n",
       "\n",
       "    .dataframe thead th {\n",
       "        text-align: right;\n",
       "    }\n",
       "</style>\n",
       "<table border=\"1\" class=\"dataframe\">\n",
       "  <thead>\n",
       "    <tr style=\"text-align: right;\">\n",
       "      <th></th>\n",
       "      <th>ID</th>\n",
       "      <th>Age</th>\n",
       "      <th>Diagnosis</th>\n",
       "      <th>FieldStrength</th>\n",
       "      <th>3rdVentricle</th>\n",
       "      <th>4thVentricle</th>\n",
       "      <th>RightAccumbensArea</th>\n",
       "      <th>LeftAccumbensArea</th>\n",
       "      <th>RightAmygdala</th>\n",
       "      <th>LeftAmygdala</th>\n",
       "      <th>...</th>\n",
       "      <th>AsymmetrySTG</th>\n",
       "      <th>AsymmetryTMP</th>\n",
       "      <th>AsymmetryTrIFG</th>\n",
       "      <th>AsymmetryTTG</th>\n",
       "      <th>AsymmetryBrain</th>\n",
       "      <th>AsymmetryBrainTissue</th>\n",
       "      <th>AsymmetryVentricles</th>\n",
       "      <th>AsymmetryCGM</th>\n",
       "      <th>AsymmetryDGM</th>\n",
       "      <th>AsymmetryWM</th>\n",
       "    </tr>\n",
       "  </thead>\n",
       "  <tbody>\n",
       "    <tr>\n",
       "      <th>0</th>\n",
       "      <td>MLN001</td>\n",
       "      <td>74.3</td>\n",
       "      <td>CN</td>\n",
       "      <td>1.5</td>\n",
       "      <td>4359.5</td>\n",
       "      <td>4984.4</td>\n",
       "      <td>431.1</td>\n",
       "      <td>400.9</td>\n",
       "      <td>1460.7</td>\n",
       "      <td>1524.7</td>\n",
       "      <td>...</td>\n",
       "      <td>14.035219</td>\n",
       "      <td>2.037072</td>\n",
       "      <td>11.800233</td>\n",
       "      <td>5.386740</td>\n",
       "      <td>1.336421</td>\n",
       "      <td>0.987901</td>\n",
       "      <td>4.758436</td>\n",
       "      <td>0.187927</td>\n",
       "      <td>0.622519</td>\n",
       "      <td>2.387750</td>\n",
       "    </tr>\n",
       "    <tr>\n",
       "      <th>1</th>\n",
       "      <td>MLN002</td>\n",
       "      <td>81.3</td>\n",
       "      <td>AD</td>\n",
       "      <td>1.5</td>\n",
       "      <td>3321.0</td>\n",
       "      <td>3475.2</td>\n",
       "      <td>502.1</td>\n",
       "      <td>430.6</td>\n",
       "      <td>818.0</td>\n",
       "      <td>882.0</td>\n",
       "      <td>...</td>\n",
       "      <td>14.500217</td>\n",
       "      <td>4.825227</td>\n",
       "      <td>4.203818</td>\n",
       "      <td>1.129944</td>\n",
       "      <td>0.160045</td>\n",
       "      <td>2.209861</td>\n",
       "      <td>30.842461</td>\n",
       "      <td>1.934403</td>\n",
       "      <td>0.002198</td>\n",
       "      <td>3.148946</td>\n",
       "    </tr>\n",
       "    <tr>\n",
       "      <th>2</th>\n",
       "      <td>MLN003</td>\n",
       "      <td>67.5</td>\n",
       "      <td>MCI</td>\n",
       "      <td>1.5</td>\n",
       "      <td>1525.2</td>\n",
       "      <td>1862.7</td>\n",
       "      <td>397.8</td>\n",
       "      <td>378.9</td>\n",
       "      <td>1293.3</td>\n",
       "      <td>1248.1</td>\n",
       "      <td>...</td>\n",
       "      <td>5.404970</td>\n",
       "      <td>2.421890</td>\n",
       "      <td>8.600695</td>\n",
       "      <td>4.985006</td>\n",
       "      <td>1.005277</td>\n",
       "      <td>1.240222</td>\n",
       "      <td>4.708337</td>\n",
       "      <td>0.019371</td>\n",
       "      <td>2.790771</td>\n",
       "      <td>2.073514</td>\n",
       "    </tr>\n",
       "    <tr>\n",
       "      <th>3</th>\n",
       "      <td>MLN004</td>\n",
       "      <td>73.7</td>\n",
       "      <td>CN</td>\n",
       "      <td>1.5</td>\n",
       "      <td>1835.8</td>\n",
       "      <td>1965.5</td>\n",
       "      <td>400.6</td>\n",
       "      <td>334.8</td>\n",
       "      <td>1115.4</td>\n",
       "      <td>927.3</td>\n",
       "      <td>...</td>\n",
       "      <td>4.477032</td>\n",
       "      <td>0.850257</td>\n",
       "      <td>22.336532</td>\n",
       "      <td>3.993044</td>\n",
       "      <td>1.788597</td>\n",
       "      <td>1.842156</td>\n",
       "      <td>0.485035</td>\n",
       "      <td>2.397467</td>\n",
       "      <td>2.696684</td>\n",
       "      <td>0.930847</td>\n",
       "    </tr>\n",
       "    <tr>\n",
       "      <th>4</th>\n",
       "      <td>MLN005</td>\n",
       "      <td>80.4</td>\n",
       "      <td>MCI</td>\n",
       "      <td>1.5</td>\n",
       "      <td>2946.5</td>\n",
       "      <td>1628.9</td>\n",
       "      <td>188.7</td>\n",
       "      <td>233.5</td>\n",
       "      <td>745.2</td>\n",
       "      <td>958.4</td>\n",
       "      <td>...</td>\n",
       "      <td>5.854615</td>\n",
       "      <td>22.622367</td>\n",
       "      <td>12.123449</td>\n",
       "      <td>8.998875</td>\n",
       "      <td>1.679182</td>\n",
       "      <td>1.359046</td>\n",
       "      <td>8.623602</td>\n",
       "      <td>3.248992</td>\n",
       "      <td>2.827620</td>\n",
       "      <td>1.251867</td>\n",
       "    </tr>\n",
       "  </tbody>\n",
       "</table>\n",
       "<p>5 rows × 296 columns</p>\n",
       "</div>"
      ],
      "text/plain": [
       "       ID   Age Diagnosis  FieldStrength  3rdVentricle  4thVentricle  \\\n",
       "0  MLN001  74.3        CN            1.5        4359.5        4984.4   \n",
       "1  MLN002  81.3        AD            1.5        3321.0        3475.2   \n",
       "2  MLN003  67.5       MCI            1.5        1525.2        1862.7   \n",
       "3  MLN004  73.7        CN            1.5        1835.8        1965.5   \n",
       "4  MLN005  80.4       MCI            1.5        2946.5        1628.9   \n",
       "\n",
       "   RightAccumbensArea  LeftAccumbensArea  RightAmygdala  LeftAmygdala  ...  \\\n",
       "0               431.1              400.9         1460.7        1524.7  ...   \n",
       "1               502.1              430.6          818.0         882.0  ...   \n",
       "2               397.8              378.9         1293.3        1248.1  ...   \n",
       "3               400.6              334.8         1115.4         927.3  ...   \n",
       "4               188.7              233.5          745.2         958.4  ...   \n",
       "\n",
       "   AsymmetrySTG  AsymmetryTMP  AsymmetryTrIFG  AsymmetryTTG  AsymmetryBrain  \\\n",
       "0     14.035219      2.037072       11.800233      5.386740        1.336421   \n",
       "1     14.500217      4.825227        4.203818      1.129944        0.160045   \n",
       "2      5.404970      2.421890        8.600695      4.985006        1.005277   \n",
       "3      4.477032      0.850257       22.336532      3.993044        1.788597   \n",
       "4      5.854615     22.622367       12.123449      8.998875        1.679182   \n",
       "\n",
       "   AsymmetryBrainTissue  AsymmetryVentricles  AsymmetryCGM  AsymmetryDGM  \\\n",
       "0              0.987901             4.758436      0.187927      0.622519   \n",
       "1              2.209861            30.842461      1.934403      0.002198   \n",
       "2              1.240222             4.708337      0.019371      2.790771   \n",
       "3              1.842156             0.485035      2.397467      2.696684   \n",
       "4              1.359046             8.623602      3.248992      2.827620   \n",
       "\n",
       "   AsymmetryWM  \n",
       "0     2.387750  \n",
       "1     3.148946  \n",
       "2     2.073514  \n",
       "3     0.930847  \n",
       "4     1.251867  \n",
       "\n",
       "[5 rows x 296 columns]"
      ]
     },
     "execution_count": 5,
     "metadata": {},
     "output_type": "execute_result"
    }
   ],
   "source": [
    "data_path = getcwd() + r'\\MLN Assessment Data-20240207\\training_validation.csv' # Define file directory for training and validation data\n",
    "\n",
    "df = pd.read_csv(data_path) # Import csv\n",
    "df.head() # Check everything was imported correctly"
   ]
  },
  {
   "cell_type": "code",
   "execution_count": 6,
   "metadata": {},
   "outputs": [
    {
     "name": "stdout",
     "output_type": "stream",
     "text": [
      "The data consists of GM volume at 292 brain regions for 1339 participants.\n"
     ]
    }
   ],
   "source": [
    "# Define number of subjects and mri brain regions\n",
    "no_subjects = df.shape[0]           # Number of subjects\n",
    "no_regions = df.iloc[:,4:].shape[1] # Only select brain region columns, not demographic data\n",
    "\n",
    "# Check the numbers\n",
    "print(f'The data consists of GM volume at {no_regions} brain regions for {no_subjects} participants.')"
   ]
  },
  {
   "cell_type": "code",
   "execution_count": 7,
   "metadata": {},
   "outputs": [
    {
     "name": "stdout",
     "output_type": "stream",
     "text": [
      "There are 3 clusters of diagnosis: ['CN' 'AD' 'MCI']\n"
     ]
    }
   ],
   "source": [
    "# Define Age\n",
    "age = df['Age']\n",
    "\n",
    "# Define diagnosis\n",
    "diagnosis = df[\"Diagnosis\"]\n",
    "\n",
    "# Print all different diagnosis and how many there are\n",
    "diagnosis_categories = diagnosis.unique() # Get all unique conditions\n",
    "\n",
    "# Check the clusters and unique diagnosis throughout dataset\n",
    "print(f'There are {len(diagnosis_categories)} clusters of diagnosis: {diagnosis_categories}')"
   ]
  },
  {
   "cell_type": "markdown",
   "metadata": {},
   "source": [
    "## Prepare for Splitting\n",
    "\n",
    "Prepare for splitting by creating a categorical variable with age and diagnosis to prepare for stratified split. This is because I want my data to be stratified based on both age and diagnosis."
   ]
  },
  {
   "cell_type": "code",
   "execution_count": 8,
   "metadata": {},
   "outputs": [
    {
     "data": {
      "image/png": "[encoded data removed]",
      "text/plain": [
       "<Figure size 1200x600 with 8 Axes>"
      ]
     },
     "metadata": {},
     "output_type": "display_data"
    }
   ],
   "source": [
    "# To do this, I need to categorise age into bins\n",
    "\n",
    "# Looking at how many bins to use for age that is appropriate for my planned methods\n",
    "\n",
    "# Define the range of bin numbers to test what is appropriate (from 5 to 13)\n",
    "bin_numbers = list(range(5, 13))\n",
    "\n",
    "# Create subplots for each bin number\n",
    "fig, axes = plt.subplots(nrows=2, ncols=4, figsize=(12, 6))\n",
    "\n",
    "# Flatten axes for easier indexing\n",
    "axes = axes.flatten()\n",
    "\n",
    "# Plot histograms with different bin numbers\n",
    "for i, bins in enumerate(bin_numbers):\n",
    "    sns.histplot(data=df, x='Age', bins=bins, ax=axes[i], color='purple', edgecolor='purple', linewidth=1.5, alpha=0.2, kde = True)\n",
    "    axes[i].set_title(f'Histogram with {bins} Bins')\n",
    "    axes[i].set_xlabel('Bins')\n",
    "    axes[i].set_ylabel('Frequency')\n",
    "\n",
    "# Adjust layout and display\n",
    "plt.tight_layout()\n",
    "plt.show()"
   ]
  },
  {
   "cell_type": "markdown",
   "metadata": {},
   "source": [
    "Around 6-8 bins looks like a good amount to appropriately represent the data, 11+ may be getting into too many bins unnecessarily. However, I need to further investigate whether there will be enough people in each concatenated category with both age and diagnosis to conduct all my stratified splits.\n",
    "\n",
    "Ideally, I need a minimum of 5 as I plan to split my data into 5 different groups: stage1_train, stage1_val, stage2_train, stage2_val, and test."
   ]
  },
  {
   "cell_type": "code",
   "execution_count": 9,
   "metadata": {},
   "outputs": [
    {
     "name": "stdout",
     "output_type": "stream",
     "text": [
      "Number of bins: 3\n",
      "Number of unique combinations: 9\n",
      "Minimum count of each combination: 6\n",
      "\n",
      "Number of bins: 4\n",
      "Number of unique combinations: 11\n",
      "Minimum count of each combination: 8\n",
      "\n",
      "Number of bins: 5\n",
      "Number of unique combinations: 14\n",
      "Minimum count of each combination: 4\n",
      "\n",
      "Number of bins: 6\n",
      "Number of unique combinations: 16\n",
      "Minimum count of each combination: 6\n",
      "\n",
      "Number of bins: 7\n",
      "Number of unique combinations: 19\n",
      "Minimum count of each combination: 1\n",
      "\n"
     ]
    }
   ],
   "source": [
    "# Define the range of bin numbers to test\n",
    "bin_numbers = list(range(3, 14))\n",
    "\n",
    "# Iterate over different numbers of bins\n",
    "for num_bins in bin_numbers:\n",
    "    # Categorize the data into bins\n",
    "    age_bins = pd.cut(df['Age'], bins=num_bins).tolist()\n",
    "    \n",
    "    # Create a new column by combining the bins and diagnosis\n",
    "    combined_age_diagnosis_temp = [f\"{age_bin}_{diagnosis}\" for age_bin, diagnosis in zip(age_bins, df['Diagnosis'])]\n",
    "    \n",
    "    # Calculate the number of unique combinations\n",
    "    unique_combinations = len(pd.Series(combined_age_diagnosis_temp).unique())\n",
    "    \n",
    "    # Calculate the minimum count of each combination\n",
    "    min_count = pd.Series(combined_age_diagnosis_temp).value_counts().min()\n",
    "    \n",
    "    # Print the results\n",
    "    print(f\"Number of bins: {num_bins}\")\n",
    "    print(f\"Number of unique combinations: {unique_combinations}\")\n",
    "    print(f\"Minimum count of each combination: {min_count}\\n\")\n",
    "    \n",
    "    # Stop counting if the minimum count reaches 1 -- I need a minimum of 5 as I will have 5 splits\n",
    "    if min_count == 1:\n",
    "         break"
   ]
  },
  {
   "cell_type": "markdown",
   "metadata": {},
   "source": [
    "Based on the above, we can see that **6 bins** would be the optimal number of age bins to use. This is beacuse:\n",
    "- It meets the minimum requirements for 5 people within a single concatenated category (to allow a stratified split into 5 different groups)\n",
    "- The number of bins is the highest it can be given this minimum of 5 (to allow the bins to be as representative of the data as possible)"
   ]
  },
  {
   "cell_type": "code",
   "execution_count": 10,
   "metadata": {},
   "outputs": [],
   "source": [
    "# Create categories using age bins of 6\n",
    "\n",
    "# Define the number of bins\n",
    "num_bins = 6\n",
    "\n",
    "# Create bin categories for age data\n",
    "age_bins = pd.cut(df['Age'], bins=num_bins).tolist()\n",
    "\n",
    "# Create a list by combining the bins and diagnosis\n",
    "combined_age_diagnosis = [f\"{age_bin}_{diagnosis}\" for age_bin, diagnosis in zip(age_bins, df['Diagnosis'])]"
   ]
  },
  {
   "cell_type": "markdown",
   "metadata": {},
   "source": [
    "## Splitting Data"
   ]
  },
  {
   "cell_type": "code",
   "execution_count": 11,
   "metadata": {},
   "outputs": [
    {
     "name": "stdout",
     "output_type": "stream",
     "text": [
      "Fold 0:\n",
      "  Train+Val: index=[355 557 373 ... 405 514 465]\n",
      "  Test:  index=[1096  358 1129  218  804  991 1169  697  720 1003  478 1029 1021 1088\n",
      "  287  196  888  688  193  854 1076   38  206  446 1136 1183 1205 1335\n",
      "  880  987  832 1111  413  233 1055   18  142  721 1196  257  661  568\n",
      "  856 1043 1086  769 1200  427   96  351  628  372 1152  267  342 1102\n",
      " 1103  125  835 1126  156  269  451  833 1284   77  742   51  130  876\n",
      "  998  751 1313 1278  483  371  797  622  951   56  839  484  582  559\n",
      "  491  884 1298  386  654 1195 1121 1305  645  554 1323  251  782 1281\n",
      "  874 1310    0  794  766  891 1062  984  209  523  445 1134  631  805\n",
      " 1223  615  862 1071  905 1257  321  159  992  544 1110  345  264  502\n",
      "  102  500   68 1140  210  185  564  320 1226  293  174  280  708  311\n",
      " 1178  312 1258  941  953  517 1125 1336  214  932   16  146  101   42\n",
      "   79 1048 1182  550  543  529  545  442  110  227  408  754  599  985\n",
      "  539   49 1072  875  869 1321 1054  621  912 1122  877 1147   83  787\n",
      " 1100  837  348  901  228  339   86   90  560  259 1328  676  236  866\n",
      "  255  660   66  524  752]\n"
     ]
    }
   ],
   "source": [
    "# Initiate how data will be split into test and trainval\n",
    "sss = StratifiedShuffleSplit(n_splits = 1, test_size = 0.15, random_state = 5)\n",
    "\n",
    "# Split data into test and overall trainval\n",
    "for i, (trainval_ind, test_ind) in enumerate(sss.split(df, combined_age_diagnosis)): # Stratify based on combined mri and age features  \n",
    "    print(f\"Fold {i}:\")                             # Print each new fold (In this case there is only one)\n",
    "    print(f\"  Train+Val: index={trainval_ind}\")     # Print the trainval indices\n",
    "    print(f\"  Test:  index={test_ind}\")             # Print test indices\n",
    "\n",
    "# I printed them to allow me to see how the data was split\n",
    "\n",
    "# Create training and validation arrays\n",
    "data_trainval = df.iloc[trainval_ind,:]                                     # Entire trainval set\n",
    "features_trainval = data_trainval.iloc[:, 4:]                               # Featire select for mri features\n",
    "agediag_trainval = pd.Series(combined_age_diagnosis).iloc[trainval_ind]     # Use this split for agediag as will need to use again in the next split\n",
    "\n",
    "age_trainval = data_trainval['Age']                                         # Extract age (y1_trainval)\n",
    "diag_trainval = data_trainval['Diagnosis']                                  # Extract diagnosis (y2_trainval)\n",
    "\n",
    "# Create testing arrays\n",
    "data_test = df.iloc[test_ind,:]                                             # Entire test set\n",
    "features_test = data_test.iloc[:,4:]                                        # Feature select for mri\n",
    "age_test = data_test['Age']                                                 # This will be y test"
   ]
  },
  {
   "cell_type": "code",
   "execution_count": 12,
   "metadata": {},
   "outputs": [
    {
     "name": "stdout",
     "output_type": "stream",
     "text": [
      "Fold 0:\n",
      "  Stage 1 Train+Val: index=[ 674  198   72  732  292  389 1052  159  328  559  939  871 1105   73\n",
      "  787  556  943  831 1075   22  243  194  587 1062  377  543  623  746\n",
      "  794    0   35  564  429  432  375  748  105  354  143  640  314  891\n",
      "  964   62  981 1025  172  824  641 1035  202  877  723  577   26  464\n",
      "  258  589  322  285 1120  125    1  249  111  147  195  173  819 1129\n",
      "  795  575  476  350  826  851   20 1067  508  571 1116  735  880  282\n",
      "  534  563  437   70  915 1112  847  902  600  393  893  593  870 1084\n",
      "  638  489  864  118  341  801  171  719   52  379  395   47  581  145\n",
      " 1103  458 1046 1091   28  453  727  255 1095  357  378  472 1083  769\n",
      "  879  117  253 1008 1118   95 1024  874  246  781 1073  738  941  477\n",
      "  654  233  695  985 1080  317  277  241  604  666 1030  767  424  266\n",
      "  744  725 1071  435  949  141  205  441 1058  832  291  805 1089  887\n",
      "  380   80  690  790  840  835  136  691  920  387  933 1023  165  570\n",
      "  650  910 1036   29  355  637  397  447  181  256  630  705   41  112\n",
      "  898   65 1010  926 1049  115  319  339  189  400  755  193  754  617\n",
      "  421  567  970  526 1078  707  150  760 1085  532  662  347 1136  836\n",
      "  426  404  599  785  166  185 1137  323  482  607  113  635  800  703\n",
      "  200  455  443  982  514  807  344  199  176  337  856 1007  521  693\n",
      "  850  275  980  602  135  175   78  108  677  338  643  313 1132  768\n",
      "   50  126  485  307  621   59  676 1039  657  783  515  806  827   54\n",
      "  209  264  655  546  283  796  330  132 1004  234   99 1003  992  276\n",
      "  815  183  627 1022   90   43  969  162 1021  358  897  442  960  427\n",
      "  295  140 1131 1079  237  914  906  481  629 1135  456  711 1066  374\n",
      " 1134  373  634  680  962  399  759   39  822  632  284  813  221  700\n",
      "  392   53   46  588  963  311  505  701  728  741 1044   32  958  904\n",
      "  857  595  598 1011  262  170   94  928 1070  972  513  912  858 1106\n",
      "  238  469  457  470 1069  809   56   11  639  412  540  743  751 1100\n",
      "  558  520   45  110  838 1041 1109  445  510    2  568  758  192  270\n",
      "  452  190  438   63  868  167  565  436  228  475  936  316  753   24\n",
      "  479  718  652  574  331 1114  533  134  163  523 1099  900  326  803\n",
      "  610  793   19 1077  828  232  509    7   97  862  802 1125  315  186\n",
      "  211  614  987  425  678  518  223  841  995 1034  398  837  561  810\n",
      "  179  121  207  324  408  536  411   96  925  633  692  771 1090  444\n",
      "    9  578  303  919  978 1019  950  212 1121  821  584   64  616  876\n",
      "  844  622 1102  148  433  625  554  487  551  731  984 1056 1087  541\n",
      "  504  351  416  670  460 1013  248  259   67 1042  612  734   40  619\n",
      "  909  710  164  382  697  502   37  859  580 1088  420  103   36   92\n",
      "  224  971  804  816  349  830  957  667 1111   91  948  124  562  133\n",
      " 1119   14  717 1015  419  976  251  784  772  873  252  911  756  409\n",
      "  549  490  792  955  547  131  376  289  750  214  675  229  242  405\n",
      " 1018  430  990  364  618  689  699  218  142]\n",
      "  Stage 2 Train+Val:  index=[ 890  318   71  353  177  713  566 1057  820   16  525  953  403  791\n",
      "  302  696  722 1107  736  966  778    4  646  647  102 1009  325  548\n",
      "  418  473  100  720  843  698  681 1005  557  154  590  983  128  686\n",
      "  152  665  932  168  709 1127  431   34  114  542  688  644   27  620\n",
      "  715  545  742  383  653   79  659 1098  609   49 1128   51  656  467\n",
      "  626  573  999  446  572  798 1126  730  823    6  811 1000  611  156\n",
      "  294   31  410  499  239  661  865  916  268  896 1096  603  649  663\n",
      "  422  329  954  174  779 1028  334 1033  213  413   18  636  188  226\n",
      "  501 1063  496  863 1082  849  361  524  866 1068  842  407 1016   55\n",
      "  527  278  935  997  683  679  368  343  149  225  773  484   75  182\n",
      "  776  889   58  991  247  973  144  628  888  729  892  749  240  362\n",
      "  216 1045  733  423 1026 1101  245  448  845  881  946  130  645  739\n",
      "   93  493  265  721  440  903   25  934  309  271 1124  402  615  384\n",
      "  855  263  597  668  938  885  184  274 1113  576 1047  846   48  712\n",
      "  511 1076  346  789 1055 1093  583   10 1065  901  348  454  924  261\n",
      "  155  116  139  745  658 1115  965  869  544  137  994  660  394   88\n",
      "  519 1031  230   13  752   23  123  206  631 1050  101  913  747  471\n",
      "  624  220 1006  336  763  299  669   84   69   89  365  930  671  227\n",
      "  498   82 1092  449  451  428   87  495  694  569  977  127  180  921\n",
      "  899  591 1081  940  269  651  530   86  825  988  539   85  648  196\n",
      "  465 1133   44  367  494  298  716  305  517  762 1072  726 1038  833\n",
      "   68  553  867 1001  682  462  286  109   57  352  146  272  257  388\n",
      " 1074  766  370  765  799  363  907   66  478  327  396   15  366 1037\n",
      "  537  552  434  777  860  296  961 1020 1061  974  592 1014  304  308\n",
      "  122  290  968  917  529  160  359  342  883  685 1117 1060  872   76\n",
      "  702  474  187  550  491  528  244  345  818  503  372  250  959 1040\n",
      "  300  321  417  219  918  834  201  332  293  320  301  107  516  306\n",
      "  817 1053  673  886  848   81  236  601  555  281  560  439  687  483\n",
      " 1108  596  480   61  138  459  944   42  492  905  535 1104  737  497\n",
      " 1032  288   60  335  582  287  333  594  280  931  231   33   21  780\n",
      "  208  797  390  882  507    3   38  923  642  401  500  895  461  908\n",
      " 1059 1029  854  861  273  927  312  996  894  808  356   30    8  463\n",
      "  153  254   77  929  414  829  260  169  310  204  369  764  468   74\n",
      "  761  708  986  684  786  947  814 1097  884  506  812  945  386  579\n",
      "  415  106  605  852  191 1027  210   12  613  486  952  178  586  922\n",
      " 1123  585  157  522  839  878  151  488  215 1012  391  875  406  951\n",
      " 1017  967  757  706 1130  770  724  279  998  119  979  203  161  704\n",
      " 1002  714 1051 1043  466  782  937   98  371   83  775  381  197  222\n",
      "  664  788 1094  774  385   17  360 1086  956  989  942  975 1110  740\n",
      "  297  450 1054 1048  538  606  267  104  512 1064    5  608  158  853\n",
      "  531  129  672 1122  235  340  217  993  120]\n"
     ]
    }
   ],
   "source": [
    "# Initiate how the trainval set will be split into two more trainvals\n",
    "sss = StratifiedShuffleSplit(n_splits = 1, test_size = 0.5, random_state = 5)\n",
    "\n",
    "# Split the trainval data into two equal trainval sets to be used for stage one and two\n",
    "for i, (stage1_trainval_ind, stage2_trainval_ind) in enumerate(sss.split(features_trainval, agediag_trainval)): # Stratify based on combined mri and age features \n",
    "    print(f\"Fold {i}:\")                                                 # Print each new fold (In this case there is only one)\n",
    "    print(f\"  Stage 1 Train+Val: index={stage1_trainval_ind}\")          # Print the trainval indices for stage one\n",
    "    print(f\"  Stage 2 Train+Val:  index={stage2_trainval_ind}\")         # Print the trainval indices for stage two\n",
    "\n",
    "# Create classification training and validation arrays\n",
    "stage1_features_trainval = features_trainval.iloc[stage1_trainval_ind, :]       # Separate features (X1) for stage one\n",
    "stage1_agediag_trainval = agediag_trainval.iloc[stage1_trainval_ind]            # Split agediag to be used for later splitting\n",
    "stage1_diag_trainval = diag_trainval.iloc[stage1_trainval_ind]                  # Separate the diagnosis (y1) for stage one \n",
    "\n",
    "# Create regression training and validation arrays\n",
    "stage2_features_trainval = features_trainval.iloc[stage2_trainval_ind,:]        # Separate features (unprocessed X2) for stage two\n",
    "stage2_agediag_trainval = agediag_trainval.iloc[stage2_trainval_ind]            # Split agediag to be used for later splitting\n",
    "stage2_age_trainval = age_trainval.iloc[stage2_trainval_ind]                    # Separate the age (y2) for stage two"
   ]
  },
  {
   "cell_type": "code",
   "execution_count": 13,
   "metadata": {},
   "outputs": [
    {
     "name": "stdout",
     "output_type": "stream",
     "text": [
      "{'fold 0': {'train': array([223,  98, 429, 236, 410, 192, 370, 304,   0,  38, 345,  91, 463,\n",
      "       557,  87, 313, 234, 516,  76, 331, 484, 184, 539,  37, 198, 353,\n",
      "       558, 298, 263, 321, 193, 488, 340,  64,  97, 477, 221, 555, 215,\n",
      "       121, 344, 454, 565, 100, 209, 220, 441, 324, 499, 105, 389, 478,\n",
      "       458, 194,  13, 186,  72,  65, 191, 307, 342, 237, 385, 417,  69,\n",
      "       414, 504, 250, 150, 501, 418, 480, 136, 139, 112,  86, 408, 434,\n",
      "       476, 246, 498, 490, 325, 355, 368, 403, 428, 190, 281, 132, 294,\n",
      "       135, 383, 276, 404, 120, 257, 226, 402, 288, 180, 262, 185, 472,\n",
      "       420, 482, 523, 394,  71, 303, 129, 189, 283, 118, 143,  60, 159,\n",
      "       326, 122, 216, 496,  63, 160, 319, 176, 278,  80, 553, 508,  20,\n",
      "        25, 267, 249, 214, 479, 201, 538, 432,   6, 350, 491, 556, 466,\n",
      "       495, 207, 500, 114,  51,  49, 453, 277, 444, 485, 260,  66, 224,\n",
      "       494, 227, 401, 182, 503,  89,  34, 338,   3,  77, 164, 256, 181,\n",
      "       103, 204, 235, 264, 465, 158, 284,  27,  73, 526, 431, 377, 330,\n",
      "       543, 217, 230, 126,  62,  47, 242, 378,  30, 549,  58, 173, 376,\n",
      "       474,   4, 568, 412, 563, 445, 312, 352, 293, 421,  17,  44, 177,\n",
      "       391, 248, 282, 138,  19, 125,  22, 323, 468, 137, 317, 153, 145,\n",
      "        53, 554, 529, 157, 328,  61, 187, 461,   2, 548, 238,  45,  74,\n",
      "       382, 483, 322, 545, 332,  50, 254, 438, 206, 450,  78, 524, 487,\n",
      "       513, 306, 399, 540, 439,  52, 178, 205, 232, 179, 397, 510, 110,\n",
      "       425, 123, 240,  57, 188, 167, 473, 433, 400, 388, 512, 452, 380,\n",
      "       251, 395, 566, 166, 291, 413, 365, 146,  29, 419, 517, 335, 259,\n",
      "        28,  85, 334, 562, 149, 154, 456, 486, 295, 437,  92, 361, 506,\n",
      "       471, 406, 292, 547,  88, 309, 362,  79, 440, 564, 423, 269, 274,\n",
      "       115, 509, 279, 447,  81,  14, 299, 231, 228, 409, 244, 134, 147,\n",
      "       373, 514, 271, 449,  95, 536,  56, 346, 316,  55, 356, 124, 297,\n",
      "       348, 497, 233, 427, 375, 422, 511, 527, 546, 183, 101, 519, 407,\n",
      "       310, 266, 349, 552, 372, 522, 384, 515, 168, 275, 359, 296, 525,\n",
      "       534, 492,  18, 102, 387, 533, 457, 270, 481, 208,  41, 195, 265,\n",
      "        26,  32, 426, 455, 329, 165, 424,  48,  24,  82, 253,  90, 175,\n",
      "       567,  99, 252, 314,  36, 280, 357,  11, 218, 530, 462, 390,  10,\n",
      "        54,  12, 320, 442, 415, 520,  15,  84, 379, 108, 416, 358, 199,\n",
      "       405, 475, 174, 142, 559,  75, 127, 467, 531, 241, 386,   7, 119,\n",
      "       364, 229, 171, 128, 398, 443, 107, 435, 374, 561, 162, 315,  46,\n",
      "        42, 393, 354,  16, 528,  70, 111, 470, 351,   9, 286, 197,  67],\n",
      "      dtype=int64), 'val': array([255, 436, 532, 196, 243, 371, 213, 151,  93, 301,  59, 156, 133,\n",
      "       203,  96,   8, 172, 336, 212,  23, 489, 521, 210, 300,  43, 113,\n",
      "       448, 155, 366, 152, 369, 411, 117, 318,  68, 106, 430, 104, 290,\n",
      "       507,  33, 337, 360,   5, 392, 109, 341, 131, 311, 225, 302, 163,\n",
      "       287, 518, 333, 211, 381, 464,  21, 550, 451, 505, 502, 169,  39,\n",
      "        94, 308, 261, 200, 343, 305, 537, 202, 541, 144, 560, 239,  35,\n",
      "       459, 551, 544,  31, 493,   1, 285, 542, 141, 219, 347,  83, 535,\n",
      "       140, 170, 272, 339, 363, 161, 130, 469, 148, 247, 268,  40, 367,\n",
      "       396, 222, 289, 245, 327, 460, 273, 116, 258, 446], dtype=int64)}, 'fold 1': {'train': array([548, 376, 493, 318, 130,   4, 138, 437, 325,  78, 400, 160, 102,\n",
      "        34, 284,  12,  83, 149, 518,  67, 378, 337, 336, 218, 280,  57,\n",
      "       451, 224, 388, 296,   0, 431, 458,  42, 457,  19, 445, 338, 195,\n",
      "       498, 436, 211,  26,  70, 208, 272, 553, 311, 380, 189, 136, 348,\n",
      "       522, 357,  22,  99, 229, 164, 452, 453, 333, 265, 517, 464, 200,\n",
      "       250, 181, 177,  52, 182, 191, 170, 316, 205, 565, 125, 257, 521,\n",
      "        68, 262, 297,  50, 470, 473, 310,  55, 248, 540, 335, 494,  97,\n",
      "       193, 175, 501, 428, 104,  41, 532, 528, 350, 117, 290,  72, 247,\n",
      "       220, 157, 499,  48,  43, 178, 463, 217, 474,  96, 225,  73, 486,\n",
      "       417, 369, 314, 244, 351, 529, 347, 126, 544, 432, 142, 309, 263,\n",
      "       414, 315, 324, 279,  86, 282, 301, 505, 502, 113, 299, 322, 422,\n",
      "        59, 123, 242, 281, 364, 115, 307, 215, 276, 101, 496, 137, 230,\n",
      "       538, 506, 154, 196, 223, 176, 420,  56, 520, 352, 515, 503, 552,\n",
      "       283,  11, 246,  62, 485, 539, 179,   5,  80, 108, 511, 339, 480,\n",
      "       562, 545, 367, 288, 275, 537, 111, 277,  94, 416,  24, 531, 235,\n",
      "       401, 210, 535,  76, 308, 305, 269, 490, 478, 559, 148, 169, 514,\n",
      "       231, 546,  28,  21,  51, 551, 523, 159,  23, 469, 140, 472,  32,\n",
      "        54,  44, 103, 238, 527, 405, 466, 465, 206, 294, 295,   9, 180,\n",
      "       114, 268, 345, 426, 387, 132,   1,  10, 304, 266, 513, 144, 442,\n",
      "         2, 326, 479, 516,  40, 398, 212, 366, 120, 158, 427,  15, 118,\n",
      "        63, 197, 270, 446, 112,  93, 435,  66, 174, 261, 359, 349, 536,\n",
      "        74, 447, 424, 105, 550,  87, 386, 241, 192,  13,  79,  69, 524,\n",
      "       560, 507, 384, 306, 171,  61, 365, 429, 449, 214, 547, 362, 556,\n",
      "       186, 135, 407, 273, 236, 198, 207, 410, 190,  98, 185, 471, 131,\n",
      "       127, 121, 391, 541, 237, 106, 525, 389, 460, 354, 375, 492, 328,\n",
      "       116, 483, 240, 300, 184, 201, 566, 213,  95, 331, 404, 153, 411,\n",
      "       392, 222, 329, 459, 320, 183, 252, 264,  45,  14, 409, 267, 251,\n",
      "       377, 555, 317, 313, 497, 448, 489, 455, 204,  88, 202, 381,  16,\n",
      "       423, 302,  90, 243, 253, 219, 372, 203, 133, 249, 419, 454, 161,\n",
      "       461, 533, 434, 233, 162, 109, 412, 232, 568, 557,  71, 385, 413,\n",
      "       128, 397, 456, 393, 278, 390, 167, 510, 406, 285, 403, 341, 488,\n",
      "        75, 534, 292,  29, 433, 383,  64, 415, 371, 209, 107, 441, 567,\n",
      "       509, 373, 382, 274, 332,  58, 543, 330,  53, 321,  35,   3, 334,\n",
      "       287,  37, 163, 360, 254, 259,  17, 418, 340, 462, 139, 564, 245,\n",
      "        85, 450, 512, 260, 110, 145, 216, 374, 481,  39, 165, 151, 361],\n",
      "      dtype=int64), 'val': array([ 20,  89, 188,   8, 228, 482, 444, 421, 298,   7, 286, 355, 187,\n",
      "       168, 234, 150, 491, 484, 312, 119, 468, 408, 129, 156, 303, 379,\n",
      "       172, 289, 526, 425,  82, 356, 141,  47, 530, 549, 558,  27, 395,\n",
      "       199,  91, 477, 399, 122, 439,  33, 293,  81, 173, 476, 563,  49,\n",
      "       368,  31, 143, 396,  30, 291, 344, 271,  92, 194, 155, 443, 500,\n",
      "       504, 134,   6, 508, 346, 402,  60,  18,  46,  65, 519, 370,  84,\n",
      "       100, 319, 475, 146, 561, 343, 363, 342, 542, 124, 495, 166, 467,\n",
      "       358, 323, 258, 221, 226, 152, 327, 147,  77, 394, 256, 554, 440,\n",
      "       487, 438,  38, 227, 430,  36, 239, 255, 353,  25], dtype=int64)}}\n"
     ]
    }
   ],
   "source": [
    "# Split trainval for stage one into training and validation data\n",
    "\n",
    "stage1_no_models = 2    # Define number of classifier models I plan to use in stage one\n",
    "\n",
    "# Initialise how data will be split into training and validation (80%/20%)\n",
    "sss = StratifiedShuffleSplit(n_splits = stage1_no_models, test_size = 0.2, random_state = 5)\n",
    "\n",
    "# Initialise empty dictionary to store train and val indices to be used in stage one\n",
    "stage1_ind_dict = {}\n",
    "\n",
    "for i, (stage1_train_ind, stage1_val_ind) in enumerate(sss.split(stage1_features_trainval, stage1_agediag_trainval)): # Stratify based on age and diagnosis \n",
    "    \n",
    "    # Create a dictionary for each fold encompassing the indices for both train and validation\n",
    "    fold_dict = {'train': stage1_train_ind, 'val': stage1_val_ind}\n",
    "    \n",
    "    # Store the nested dictionary in the stage1_ind_dict\n",
    "    stage1_ind_dict[f'fold {i}'] = fold_dict\n",
    "\n",
    "# Print the ind_dict to check the structure is as expected\n",
    "print(stage1_ind_dict)"
   ]
  },
  {
   "cell_type": "code",
   "execution_count": 14,
   "metadata": {},
   "outputs": [],
   "source": [
    "# Separate training and validation for each fold using a loop\n",
    "# Initialise empty lists to store the data for each fold\n",
    "stage1_features_train = []\n",
    "stage1_features_val = []\n",
    "stage1_diag_train = []\n",
    "stage1_diag_val = []\n",
    "\n",
    "# Loop over the folds\n",
    "for i in range(stage1_no_models):\n",
    "    # Append the data for each fold to the corresponding list\n",
    "    stage1_features_train.append(stage1_features_trainval.iloc[stage1_ind_dict[f'fold {i}']['train'], :])           # Training data mri features (X1_train)\n",
    "    stage1_features_val.append(stage1_features_trainval.iloc[stage1_ind_dict[f'fold {i}']['val'], :])               # Validation data mri features (X1_val)\n",
    "    stage1_diag_train.append(stage1_diag_trainval.iloc[stage1_ind_dict[f'fold {i}']['train']])                      # Training data diagnosis values (y1_train)\n",
    "    stage1_diag_val.append(stage1_diag_trainval.iloc[stage1_ind_dict[f'fold {i}']['val']])                          # Validation data diagnosis values (y1_val)"
   ]
  },
  {
   "cell_type": "markdown",
   "metadata": {},
   "source": [
    "Now that everything is split for stage one, lets look at the diagnosis split (y1)"
   ]
  },
  {
   "cell_type": "code",
   "execution_count": 15,
   "metadata": {},
   "outputs": [
    {
     "name": "stdout",
     "output_type": "stream",
     "text": [
      "\n",
      "--- fold 0 ---\n",
      "Training: 133 controls, 89 patients with AD, and 233 patients with MCI\n",
      "Validation: 33 controls, 23 patients with AD, and 58 patients with MCI\n",
      "\n",
      "--- fold 1 ---\n",
      "Training: 133 controls, 89 patients with AD, and 233 patients with MCI\n",
      "Validation: 33 controls, 23 patients with AD, and 58 patients with MCI\n"
     ]
    }
   ],
   "source": [
    "# Count the number of diagnosis in each group to check they are split appropriately\n",
    "for i in range(stage1_no_models):\n",
    "    # Get the diagnosis labels for the training and validation data\n",
    "    y_train = stage1_diag_train[i]\n",
    "    y_val = stage1_diag_val[i]\n",
    "    \n",
    "    # Count the number of healthy controls and patients with AD in each data set\n",
    "    n_train_cn = sum(y_train == 'CN')\n",
    "    n_train_ad = sum(y_train == 'AD')\n",
    "    n_train_mci = sum(y_train == 'MCI')\n",
    "\n",
    "    n_val_cn = sum(y_val == 'CN')\n",
    "    n_val_ad = sum(y_val == 'AD')\n",
    "    n_val_mci = sum(y_val == 'MCI')\n",
    "    \n",
    "    # Print the results for each fold\n",
    "    print(f\"\\n--- fold {i} ---\")\n",
    "    print(f\"Training: {n_train_cn} controls, {n_train_ad} patients with AD, and {n_train_mci} patients with MCI\")\n",
    "    print(f\"Validation: {n_val_cn} controls, {n_val_ad} patients with AD, and {n_val_mci} patients with MCI\")\n"
   ]
  },
  {
   "cell_type": "markdown",
   "metadata": {},
   "source": [
    "The splits in each fold are split accordingly"
   ]
  },
  {
   "cell_type": "code",
   "execution_count": 16,
   "metadata": {},
   "outputs": [
    {
     "name": "stdout",
     "output_type": "stream",
     "text": [
      "{'fold 0': {'train': array([207, 192, 465, 254, 420, 497, 369, 523, 326,  44, 419, 475, 468,\n",
      "       145, 266, 320, 425, 539, 103, 340, 181,  98, 272,  38, 212, 378,\n",
      "       291, 108, 276, 462, 176, 171, 218, 117, 450, 480, 530, 526, 300,\n",
      "        21, 302, 379, 263, 292, 332, 308, 277, 371, 495, 390, 554, 494,\n",
      "       381, 213, 365, 197,  89, 446, 416, 327, 129, 307, 249, 414, 157,\n",
      "       436, 183, 159, 283, 521, 360, 456, 124,  94,  65, 126, 406, 471,\n",
      "         8, 289, 165, 243, 426, 496, 354,  74, 380, 210, 288, 167,  60,\n",
      "        88, 396, 424, 341,  30, 273,  39, 410,  25, 189, 284, 413, 476,\n",
      "       549, 125,  55,  59, 372, 313, 106, 404, 519, 367, 191,  80, 196,\n",
      "       339,  79, 498, 508,  95, 185, 205, 543, 348, 435, 559, 368,  17,\n",
      "       296, 325, 270, 232, 434, 217, 385, 469,  27, 278, 454, 464, 166,\n",
      "       504, 248, 374,  70,  86,  37, 474, 287, 127, 485, 274,  77, 244,\n",
      "       507, 299, 440,  56,  97, 148,  16, 271,   0, 137, 162, 323, 466,\n",
      "       154, 216, 107, 359, 388, 246, 303,   9, 104, 561, 558, 383, 433,\n",
      "       550, 200, 237, 505, 241, 235, 264, 392,  43, 500, 557, 537, 437,\n",
      "       280, 168,  75, 314, 533, 391, 358, 305, 516, 442,  11, 294, 194,\n",
      "       552, 265, 293, 153, 353, 279, 349, 337,  41, 150, 335, 512, 100,\n",
      "         1, 566, 449, 261,  76, 114, 253, 310,  42, 286, 311,  54,  90,\n",
      "       513, 483, 363, 174, 182,  85, 184, 382, 233, 472, 115, 522, 489,\n",
      "       524, 470, 101, 131, 477,  64, 201, 231, 247, 208, 122, 506, 198,\n",
      "       431,   5, 118,  87, 528, 227, 402, 452, 445,  45,  24,  67, 395,\n",
      "       242, 373,  78, 195, 441, 444, 490, 138,  19,  73,  99, 351, 281,\n",
      "        35, 386, 375, 567,  47,  31, 461, 481,  66,  40, 258, 430, 479,\n",
      "       503, 110, 188, 560, 319, 546, 328, 146, 175, 219, 520, 331, 527,\n",
      "       268, 532, 568, 399,  36,  10, 298, 229, 223, 443, 269, 457, 158,\n",
      "       562, 538, 492, 459, 149, 565, 144, 352, 362, 418,  91, 412,  26,\n",
      "       429, 344,  20, 458, 329, 428, 511, 541, 529, 204, 151, 220, 134,\n",
      "       250, 282, 531, 389, 417, 544, 400, 304, 178, 343, 262, 297, 553,\n",
      "        33, 501,  12, 517, 408, 535, 488, 252, 518, 255, 486, 199,  96,\n",
      "       187,  14, 179, 478, 438, 102,  62, 130, 448, 116, 240,  53, 309,\n",
      "       534,  22,  71, 324,  29, 384, 330, 238, 493, 447, 234, 357,   2,\n",
      "        51, 347, 251, 407, 427, 236, 206, 312, 393, 133,  15,  18, 364,\n",
      "       415,  69, 180,  68, 105, 109, 112, 473,  63, 152, 342,  32, 143,\n",
      "       484, 239, 170, 432, 123, 453, 141, 555, 377, 564, 403, 334,  72,\n",
      "       338, 409, 318, 169, 542,  28, 135,  61,  83,   3, 356, 209, 536],\n",
      "      dtype=int64), 'val': array([545,  34, 487, 514, 345, 397, 177, 551, 214, 467, 267, 202,  93,\n",
      "       256, 423,  13, 139, 547, 155, 221, 540, 160, 172,  49, 376, 422,\n",
      "       275, 525, 336,   6, 301, 315, 295, 147, 156, 350, 460, 316, 556,\n",
      "       439,  48, 193, 120, 161, 370,  58, 228, 186, 451, 502, 164, 230,\n",
      "       322, 482,  81, 163, 515, 499,   7, 401,  92, 510, 411, 203, 142,\n",
      "       260, 355, 132, 121,  84, 366, 387, 259, 563, 421, 491, 346,  23,\n",
      "       113,  82,  46,  50, 226, 398, 211,   4,  52, 225, 317,  57, 215,\n",
      "       245, 333, 509, 455, 257, 548, 405, 190, 119, 285, 222, 136, 306,\n",
      "       463, 224, 321, 394, 290, 361, 140, 173, 111, 128], dtype=int64)}, 'fold 1': {'train': array([171, 101, 427, 316, 237, 192, 153, 202,  30, 115, 204, 312, 416,\n",
      "        16, 360, 125, 437,  47, 509, 132, 378, 245, 387, 446, 268,  87,\n",
      "       460, 244, 528, 297, 322, 302, 389, 549, 488, 169, 200, 271, 199,\n",
      "       529, 281, 332,  50,  28, 255, 186, 559, 193, 395, 238, 500, 429,\n",
      "       544,   8,  42,   2, 358, 162, 296, 474, 242, 164, 304, 435, 225,\n",
      "        99, 287, 194,  64, 397, 424, 145, 362,  76,  78, 219, 340, 174,\n",
      "       147, 284, 568,  85, 266, 391, 447, 160, 254, 475, 349, 507, 134,\n",
      "       207, 206, 521, 308, 183, 277, 563, 542, 278, 155, 359,  89,  75,\n",
      "        82, 496, 495, 130, 167, 201, 468, 288, 291, 355, 295, 104, 481,\n",
      "       414, 515, 324, 269, 220, 394, 421, 390, 240, 469, 418, 280, 293,\n",
      "       436, 334, 371,  41, 126, 486, 315, 536, 234, 136, 298, 363, 428,\n",
      "        92, 301, 264, 405, 367, 404, 190, 236, 319, 151, 508, 150, 376,\n",
      "       353, 479,  31, 372,  35, 168, 310, 144, 457, 305, 111, 492, 548,\n",
      "        55,  77, 449,  66, 485,   5, 208,   4, 283, 133, 511, 345,  26,\n",
      "       567, 417, 361, 364, 343, 545, 135, 214, 514, 490, 456, 510, 107,\n",
      "       440,  24,  56, 103, 227, 498, 331,  60, 494, 441, 176, 493, 538,\n",
      "       229, 222, 398, 123,  86, 260, 543, 196,   6, 434, 173, 476,  14,\n",
      "        51, 261, 154, 311, 541, 415, 379, 318, 233,  83,  93,   3, 189,\n",
      "        70, 464, 419, 368, 408, 141,  13, 520, 257, 114, 524, 156,  88,\n",
      "        19, 339, 327, 539,  52,  81, 256,  25, 185, 218, 458,  20,  40,\n",
      "        95, 209, 265, 455,  65, 551,  69, 537, 180, 484, 555, 179, 565,\n",
      "        90,  68, 181, 505, 462, 341, 411, 152, 423, 120, 146, 157, 175,\n",
      "       491, 502, 400, 276, 347, 303, 124, 465, 459, 232, 560, 328, 216,\n",
      "       197, 321, 450,  21, 252, 212, 248, 420, 210, 230, 425, 477,  84,\n",
      "       198, 140, 262, 246, 307, 128, 553, 314, 467, 381, 329, 501, 403,\n",
      "       142, 483, 118, 306, 540, 217, 523, 228, 149, 526, 463,  58, 422,\n",
      "       554, 259, 235, 258, 344, 556,  71, 426,  54,  10, 443, 325, 330,\n",
      "       383, 534, 482, 320, 504, 451, 139, 478, 249,  45, 221, 499, 166,\n",
      "       525,  62,  53, 267, 273, 226, 112, 224, 388, 270, 497, 165, 170,\n",
      "       517, 535, 471, 251, 286,  39, 386, 247, 326, 113,   7,  61, 444,\n",
      "       292, 106, 461, 409, 348, 357, 562, 506, 342, 385, 557, 350, 374,\n",
      "       109, 466,  97,  59, 452, 396, 117, 412, 211, 445, 282, 454, 402,\n",
      "       532, 346, 370, 309, 182, 215, 550,  33,   1, 401, 487,   0, 375,\n",
      "        18, 335, 516,  96, 184,  38,  11,  46, 131, 110,  94, 519, 512,\n",
      "       546, 472, 172, 274, 399, 100,  22, 377, 518,  49, 102, 438, 430],\n",
      "      dtype=int64), 'val': array([ 72, 547, 294, 533,  32, 470, 365, 351, 272, 354, 161, 433, 253,\n",
      "        80, 239, 108, 530, 333, 195, 561, 285,  36,  91,  74,  34, 453,\n",
      "       122, 366, 410, 143, 275,  57, 431, 250, 338, 163, 513, 317,  79,\n",
      "       522,  98, 323, 384, 205, 392,  48, 413, 566, 300, 380, 223, 489,\n",
      "       448, 503, 177, 105, 439,  63, 558, 159, 432, 352, 407,  17,  73,\n",
      "       564,  23, 382, 129, 116, 393, 137, 191,  43, 203, 243, 213,  15,\n",
      "       552, 406, 119, 138, 356, 373, 231, 290, 473, 442, 121, 279, 337,\n",
      "       263,  12, 188, 241, 289, 299, 336, 158, 480, 527, 148,  27, 531,\n",
      "        29, 313, 369,  37,  44,   9, 127, 178, 187,  67], dtype=int64)}}\n"
     ]
    }
   ],
   "source": [
    "# Split trainval in stage two into training and validation\n",
    "\n",
    "# Define how many regressor models I want to use in stage two\n",
    "stage2_no_models = 2\n",
    "\n",
    "# Initialise how trainval will be split into training and validation data (80%/20%)\n",
    "sss = StratifiedShuffleSplit(n_splits = stage2_no_models, test_size = 0.2, random_state = 5)\n",
    "\n",
    "# Initialise empty dictionary that will store the training and validation indices\n",
    "stage2_ind_dict = {}\n",
    "\n",
    "for i, (stage2_train_ind, stage2_val_ind) in enumerate(sss.split(stage2_features_trainval, stage2_agediag_trainval)): # Stratify based on age and diagnosis\n",
    "    \n",
    "    # Create a dictionary for each fold for traininga anad validation indices\n",
    "    fold_dict = {'train': stage2_train_ind, 'val': stage2_val_ind}\n",
    "    \n",
    "    # Store the nested dictionary in the ind_dict\n",
    "    stage2_ind_dict[f'fold {i}'] = fold_dict\n",
    "\n",
    "# Print the ind_dict to check indices\n",
    "print(stage2_ind_dict)\n",
    "\n",
    "# Separate training and validation for each model using a loop\n",
    "# Initialise empty lists to store the data for each fold\n",
    "stage2_features_train = []\n",
    "stage2_features_val = []\n",
    "stage2_age_train = []\n",
    "stage2_age_val = []\n",
    "\n",
    "# Loop over the folds\n",
    "for i in range(stage2_no_models):\n",
    "    # Append the data for each fold to the corresponding list\n",
    "    stage2_features_train.append(stage2_features_trainval.iloc[stage2_ind_dict[f'fold {i}']['train'], :])       # Training data mri features (unprocessed X2_train)\n",
    "    stage2_features_val.append(stage2_features_trainval.iloc[stage2_ind_dict[f'fold {i}']['val'], :])           # Validation data mri features (unprocessed X2_val)\n",
    "    stage2_age_train.append(stage2_age_trainval.iloc[stage2_ind_dict[f'fold {i}']['train']])                    # Training data age (y2_train)\n",
    "    stage2_age_val.append(stage2_age_trainval.iloc[stage2_ind_dict[f'fold {i}']['val']])                        # Validation data age (y2_val)"
   ]
  },
  {
   "cell_type": "markdown",
   "metadata": {},
   "source": [
    "Now that everything is split for stage two, lets look at the splits distribution of age (y2) to double check everything is ok"
   ]
  },
  {
   "cell_type": "code",
   "execution_count": 21,
   "metadata": {},
   "outputs": [
    {
     "data": {
      "image/png": "[encoded data removed]",
      "text/plain": [
       "<Figure size 1200x800 with 2 Axes>"
      ]
     },
     "metadata": {},
     "output_type": "display_data"
    },
    {
     "name": "stdout",
     "output_type": "stream",
     "text": [
      "Train Age Stats\n",
      " count    455.000000\n",
      "mean      73.749670\n",
      "std        7.248113\n",
      "min       54.400000\n",
      "25%       69.400000\n",
      "50%       73.700000\n",
      "75%       79.150000\n",
      "max       89.100000\n",
      "Name: Age, dtype: float64 \n",
      "Val Age Stats\n",
      " count    114.000000\n",
      "mean      74.035965\n",
      "std        7.810512\n",
      "min       48.100000\n",
      "25%       69.525000\n",
      "50%       73.850000\n",
      "75%       79.100000\n",
      "max       90.300000\n",
      "Name: Age, dtype: float64\n"
     ]
    }
   ],
   "source": [
    "# Create subplots\n",
    "fig, axs = plt.subplots(stage2_no_models, figsize=(12, 8))\n",
    "\n",
    "# For each fold in stage 2\n",
    "for i in range(stage2_no_models):\n",
    "    # Get the diagnosis labels for the training and validation data\n",
    "    y_train = stage2_age_train[i]\n",
    "    y_val = stage2_age_val[i]\n",
    "\n",
    "    # Compute summary statistics for each group\n",
    "    summary_stats_train = y_train.describe()\n",
    "    summary_stats_val = y_val.describe()\n",
    "\n",
    "    # Plot histograms for training and validation data\n",
    "    axs[i].hist(y_train, bins=20, alpha=0.7, label='Training Data', color='blue', edgecolor='blue')\n",
    "    axs[i].hist(y_val, bins=20, alpha=0.7, label='Validation Data', color='red', edgecolor='red')\n",
    "\n",
    "    # Add labels, titles, and legends\n",
    "    axs[i].set_xlabel('Age')\n",
    "    axs[i].set_ylabel('Frequency')\n",
    "    axs[i].set_title(f'Distribution of Age (Fold {i+1})')\n",
    "    axs[i].legend()\n",
    "\n",
    "# Adjust layout\n",
    "plt.tight_layout()\n",
    "plt.show()  # Display plot\n",
    "\n",
    "# Print the means and distributions\n",
    "print('Train Age Stats\\n', summary_stats_train, '\\nVal Age Stats\\n', summary_stats_val)"
   ]
  },
  {
   "cell_type": "markdown",
   "metadata": {},
   "source": [
    "The histograms above indicate that there is a rough similarity of age distribution from training and validation. Although the distributions could be more alike, unfortuantely I chose the best number of age bins that it possible and cannot change to optimise it. Although it may be worth keeping in mind for future evaluation. "
   ]
  },
  {
   "cell_type": "markdown",
   "metadata": {},
   "source": [
    "# Stage One Modelling\n",
    "\n",
    "Go through all the folds, apply different models and parameter tuning using a simple grid search"
   ]
  },
  {
   "cell_type": "code",
   "execution_count": 23,
   "metadata": {},
   "outputs": [
    {
     "name": "stdout",
     "output_type": "stream",
     "text": [
      "\n",
      "--- Random Forest Classifier ---\n",
      "Hyperparameter tuning in progress..."
     ]
    },
    {
     "name": "stdout",
     "output_type": "stream",
     "text": [
      "Hyperparameter tuning complete         \n",
      "Training and validation complete         \n",
      "--- Support Vector Classifier ---\n",
      "Hyperparameter tuning complete         \n",
      "Training and validation complete         "
     ]
    }
   ],
   "source": [
    "# Define classifiers with parameters I want to keep and not change\n",
    "classifiers = [RandomForestClassifier(random_state = 3), SVC(kernel = 'poly', probability = True, random_state = 3)]\n",
    "\n",
    "# Store the names for printing purposes\n",
    "classifier_names = ['Random Forest Classifier', 'Support Vector Classifier']\n",
    "\n",
    "# Dict to store all results that I will need for analysis and comparisons from cross validation\n",
    "stage1_results = {   'optimised_classifiers': [],           # Optimised classifier model\n",
    "                     'optimised_params': [],                # Optimised params found from hyperparameter tuning\n",
    "                     'pipelines': [],                       # Final pipeline for each classifier\n",
    "                     'true_values': [],                     # All true y values - for analysis\n",
    "                     'predicted_values': []}                # All predicted y values - for analysis\n",
    "\n",
    "\n",
    "# Set parameters I want to check which does best\n",
    "stage1_param_grid = [{  'selector__alpha': [0.05, 0.035, 0.025, 0.015],     # alpha how many features where p value < alpha\n",
    "                        'classifier__n_estimators': [135, 150, 165],\n",
    "                        'classifier__max_depth': [8, 10, 12, 14],\n",
    "                        'classifier__min_samples_split': [2, 3, 4, 5]},\n",
    "\n",
    "                     {  'selector__alpha': [0.05, 0.04, 0.035, 0.025],\n",
    "                        'classifier__C': [0.05, 0.1, 0.2, 0.5], \n",
    "                        'classifier__gamma': [1, 0.015, 0.02, 0.025]}]\n",
    "\n",
    "# For each fold, use the training (X_train) and val (X_val) mri features (X1) and the training (y_train) and val (y_val) diagnosis (y1)\n",
    "for fold_idx, (X_train, X_val, y_train, y_val) in enumerate(zip(stage1_features_train, stage1_features_val, stage1_diag_train, stage1_diag_val)):\n",
    "    \n",
    "    # Define pipeline items\n",
    "    scaler = StandardScaler()                   # Create a standard scaler \n",
    "    selector = selector = SelectFpr(f_classif)  # Feature selection using fclass if\n",
    "    classifier = classifiers[fold_idx]          # Focussed classifier for this fold\n",
    "\n",
    "    param_grid = stage1_param_grid[fold_idx]    # Focussed param grid for this fold\n",
    "    \n",
    "    # Create pipeline for grid search\n",
    "    paramtune_pipeline = Pipeline([\n",
    "        ('scaler', scaler),\n",
    "        ('selector', selector),\n",
    "        ('classifier', classifier)\n",
    "    ])\n",
    "\n",
    "    # Print current progress\n",
    "    print(f'\\n--- {classifier_names[fold_idx]} ---')\n",
    "    print('Hyperparameter tuning in progress...', end = '', flush = True) # Loop progress update\n",
    "\n",
    "    # Nested Cross Validation for parameter tuning\n",
    "    search = GridSearchCV(estimator = paramtune_pipeline, param_grid = param_grid)\n",
    "    search.fit(X_train, y_train)\n",
    "\n",
    "    print('\\rHyperparameter tuning complete', end = '         ' ) # Print progress update\n",
    "\n",
    "    # Define the best model with optimised parameters found from grid search\n",
    "    best_model = search.best_estimator_\n",
    "\n",
    "    stage1_results['optimised_classifiers'].append(best_model)           # Assign to dict for later use\n",
    "    stage1_results['optimised_params'].append(search.best_params_)           # Assign best params for later use\n",
    "\n",
    "    print('\\nTraining and validation in progress...', end = '', flush = True)   # Progress update\n",
    "\n",
    "    # Make and fit the best model with optimised params\n",
    "    pipe = make_pipeline(best_model)            # Making pipeline        \n",
    "    pipe.fit(X_train, y_train)                  # Train the pipeline\n",
    "\n",
    "    y_val_pred = pipe.predict(X_val)            # Predict the diagnosis labels\n",
    "\n",
    "    stage1_results['pipelines'].append(pipe)                    # Append with trained pipeline  \n",
    "    stage1_results['true_values'].append(y_val)                 # Append for true diagnosis labels\n",
    "    stage1_results['predicted_values'].append(y_val_pred)       # Append for predicted diagnosis labels\n",
    "\n",
    "    print('\\rTraining and validation complete', end = '         ' )     # Print progress update"
   ]
  },
  {
   "cell_type": "markdown",
   "metadata": {},
   "source": [
    "## Classifier Model Analysis\n",
    "\n",
    "Analyse the cross validation predicted results to evaluate which model is the best"
   ]
  },
  {
   "cell_type": "code",
   "execution_count": 28,
   "metadata": {},
   "outputs": [],
   "source": [
    "# Initialise dictionary to store scores (will turn into df later)\n",
    "classifier_scores = {   'f1': [],\n",
    "                        'accuracy': []}\n",
    "\n",
    "# Initialise empty lists to store confusion matrices and selected features for each classifier\n",
    "confusion_matrices = []\n",
    "selected_features = []\n",
    "\n",
    "# Run through each classifier and obtain f1 scores, accuracy scores, confusion matrices and selected features\n",
    "for classifier_pipeline in range(stage1_no_models):\n",
    "    true_values = stage1_results['true_values'][classifier_pipeline]              # Extract true values for current fold\n",
    "    predicted_values = stage1_results['predicted_values'][classifier_pipeline]    # Extract the predicted values for current fold\n",
    "    classes = stage1_results['pipelines'][classifier_pipeline].classes_           # Extract the pipeline classes used on fold\n",
    "\n",
    "    ## Scores ##\n",
    "\n",
    "    # Calculate scores\n",
    "    f1 = f1_score(true_values, predicted_values, average='weighted')  # Calculate f1 score, which calculates metrics for each weighted label and average them\n",
    "    accuracy = accuracy_score(true_values, predicted_values)          # Calculate accuracy score, which provides a % of correct predictions made\n",
    "\n",
    "    # Append dict lists with scores\n",
    "    classifier_scores['f1'].append(f1)                    \n",
    "    classifier_scores['accuracy'].append(accuracy)  \n",
    "\n",
    "    ## Confusion Matrix ##      \n",
    "\n",
    "    # Create confusion matrix for each pipeline\n",
    "    cm = confusion_matrix(true_values, predicted_values)\n",
    "    disp_cm = ConfusionMatrixDisplay(confusion_matrix=cm, display_labels=classes)\n",
    "\n",
    "    # Append list with confusion matrices for each fold\n",
    "    confusion_matrices.append(disp_cm)\n",
    "\n",
    "    ## Selected Features ##\n",
    "\n",
    "     # Access the 'SelectFpr' transformer\n",
    "    select_fpr_transformer = stage1_results['pipelines'][classifier_pipeline].named_steps['pipeline'].named_steps['selector']\n",
    "\n",
    "    # Get the mask of selected features from the SelectFpr transformer\n",
    "    used_features_mask = select_fpr_transformer.get_support()\n",
    "\n",
    "    # Extract the selected features using the mask\n",
    "    used_features = stage1_features_train[classifier_pipeline].columns[used_features_mask]\n",
    "\n",
    "    # Used feature pvalues\n",
    "    used_feature_pvalues = select_fpr_transformer.pvalues_[used_features_mask]\n",
    "\n",
    "    # Append list with selected features and their pvalues\n",
    "    ind_feat = np.argsort(used_feature_pvalues)[:5]\n",
    "    selected_features.append(used_features[ind_feat])\n",
    "    \n",
    "# Create dataframe with all scores and their classifier models\n",
    "classifier_scores_df = pd.DataFrame(classifier_scores, index = classifier_names)"
   ]
  },
  {
   "cell_type": "markdown",
   "metadata": {},
   "source": [
    "Having a look at the selected features that were used in the pipeline. This can be used to show whether our models found features that are consistent with existing literature"
   ]
  },
  {
   "cell_type": "code",
   "execution_count": 29,
   "metadata": {},
   "outputs": [
    {
     "name": "stdout",
     "output_type": "stream",
     "text": [
      "Random Forest Classifier pipeline selected features:\n",
      "Index(['BothHippocampus', 'LeftHippocampus', 'BothEntA', 'BothInfLatVent',\n",
      "       'RightHippocampus'],\n",
      "      dtype='object')\n",
      "Support Vector Classifier pipeline selected features:\n",
      "Index(['BothInfLatVent', 'LeftInfLatVent', 'BothEntA', 'BothAmygdala',\n",
      "       'RightInfLatVent'],\n",
      "      dtype='object')\n"
     ]
    }
   ],
   "source": [
    "# Print all selected features\n",
    "for classifier_pipeline in range(stage1_no_models):\n",
    "    print(f'{classifier_names[classifier_pipeline]} pipeline selected features:')\n",
    "    print(selected_features[classifier_pipeline])"
   ]
  },
  {
   "cell_type": "markdown",
   "metadata": {},
   "source": [
    "We can see that the most significant features are hippocampus and ventricular plus amygdala. Hippocampus and ventricles are found as most important features in previous literature, so we are on the right track..."
   ]
  },
  {
   "cell_type": "code",
   "execution_count": 30,
   "metadata": {},
   "outputs": [
    {
     "data": {
      "text/html": [
       "<div>\n",
       "<style scoped>\n",
       "    .dataframe tbody tr th:only-of-type {\n",
       "        vertical-align: middle;\n",
       "    }\n",
       "\n",
       "    .dataframe tbody tr th {\n",
       "        vertical-align: top;\n",
       "    }\n",
       "\n",
       "    .dataframe thead th {\n",
       "        text-align: right;\n",
       "    }\n",
       "</style>\n",
       "<table border=\"1\" class=\"dataframe\">\n",
       "  <thead>\n",
       "    <tr style=\"text-align: right;\">\n",
       "      <th></th>\n",
       "      <th>f1</th>\n",
       "      <th>accuracy</th>\n",
       "    </tr>\n",
       "  </thead>\n",
       "  <tbody>\n",
       "    <tr>\n",
       "      <th>Random Forest Classifier</th>\n",
       "      <td>0.497722</td>\n",
       "      <td>0.535088</td>\n",
       "    </tr>\n",
       "    <tr>\n",
       "      <th>Support Vector Classifier</th>\n",
       "      <td>0.363907</td>\n",
       "      <td>0.438596</td>\n",
       "    </tr>\n",
       "  </tbody>\n",
       "</table>\n",
       "</div>"
      ],
      "text/plain": [
       "                                 f1  accuracy\n",
       "Random Forest Classifier   0.497722  0.535088\n",
       "Support Vector Classifier  0.363907  0.438596"
      ]
     },
     "execution_count": 30,
     "metadata": {},
     "output_type": "execute_result"
    }
   ],
   "source": [
    "# Print scores dataframe\n",
    "classifier_scores_df"
   ]
  },
  {
   "cell_type": "markdown",
   "metadata": {},
   "source": [
    "We can see that the RFC performed best with both accuracy and f1. Overall, we will only take into account f1 when it comes to looking at the best model, as this takes into account not only whether labels were correct or not, but also the confusion matrix. So it is better prepresentable on model performance.\n",
    "\n",
    "The accuracy shows that RFC was just above 0.5, so it is lesser likely to have results due to chance."
   ]
  },
  {
   "cell_type": "markdown",
   "metadata": {},
   "source": [
    "Now plotting the confusion matrices..."
   ]
  },
  {
   "cell_type": "code",
   "execution_count": 31,
   "metadata": {},
   "outputs": [
    {
     "data": {
      "image/png": "[encoded data removed]",
      "text/plain": [
       "<Figure size 640x480 with 2 Axes>"
      ]
     },
     "metadata": {},
     "output_type": "display_data"
    },
    {
     "data": {
      "image/png": "[encoded data removed]",
      "text/plain": [
       "<Figure size 640x480 with 2 Axes>"
      ]
     },
     "metadata": {},
     "output_type": "display_data"
    }
   ],
   "source": [
    "# Plot confusion matrices\n",
    "for i in range(stage1_no_models):\n",
    "    confusion_matrices[i].plot()\n",
    "    plt.title(classifier_names[i])"
   ]
  },
  {
   "cell_type": "markdown",
   "metadata": {},
   "source": [
    "We can see that both f1 and accuracy scores are higher for Random Forest Classifier. \n",
    "\n",
    "For the confusion matrix, , we expect to see that the diagonal from top left to bottom right are lighter colours and the rest of the squares should be as dark as possible. The confusion matrix also confirms that the RFC is the better model as the diagonal has higher numbers and the rest of the matrix is lower in numbers compared to the SVC.\n",
    "\n",
    "Let's store the best classifier pipeline to use for stage two..."
   ]
  },
  {
   "cell_type": "code",
   "execution_count": 33,
   "metadata": {},
   "outputs": [
    {
     "name": "stdout",
     "output_type": "stream",
     "text": [
      "The best classifier is: Pipeline(steps=[('scaler', StandardScaler()),\n",
      "                ('selector', SelectFpr(alpha=0.025)),\n",
      "                ('classifier',\n",
      "                 RandomForestClassifier(max_depth=14, min_samples_split=4,\n",
      "                                        n_estimators=150, random_state=3))])\n",
      " The optimal parameters are: {'classifier__max_depth': 14, 'classifier__min_samples_split': 4, 'classifier__n_estimators': 150, 'selector__alpha': 0.025}\n"
     ]
    }
   ],
   "source": [
    "# Finding the best classifier of all:\n",
    "best_classifier_ind = classifier_scores['f1'].index(max(classifier_scores['f1'])) # Get the index of the best classifier based on score\n",
    "best_classifier = stage1_results['optimised_classifiers'][best_classifier_ind]                # Get the best classifier using index\n",
    "\n",
    "# Print the best classifier pipeline with the optimal parameters\n",
    "print(f\"The best classifier is: {best_classifier}\\n\",\n",
    "        f\"The optimal parameters are: {stage1_results['optimised_params'][best_classifier_ind]}\")"
   ]
  },
  {
   "cell_type": "markdown",
   "metadata": {},
   "source": [
    "I am choosing to use the predicted probabilities for each label instead of taking the direct label, as it allows the regressor to take into account that these are predictions of diagnosis and may not be definitively accurate"
   ]
  },
  {
   "cell_type": "markdown",
   "metadata": {},
   "source": [
    "### Create function for stage one\n",
    "\n",
    "This is to make it easier to refer to and change if needed"
   ]
  },
  {
   "cell_type": "code",
   "execution_count": 34,
   "metadata": {},
   "outputs": [],
   "source": [
    "from sklearn.feature_selection import SelectFpr\n",
    "\n",
    "def apply_stageone(X_train, y_train, X_test, classifier_pipe):\n",
    "\n",
    "    \"\"\"\n",
    "    Perform stage one modelling by training with X_train and y_train. Predictions are then made on X_test. \n",
    "    These predictions for diagnosis probabilities are then applied to the original X_test.\n",
    "    This allows the X_test to be used ready for stage two.\n",
    "\n",
    "    Parameters:\n",
    "    - X1_train: Training data features for stage one.\n",
    "    - y1_train: Training data labels for stage one.\n",
    "    - X_test: Test data features.\n",
    "\n",
    "    Returns:\n",
    "    - stage2_Xtrain: Dataset for stage two modelling.\n",
    "    \"\"\"\n",
    "\n",
    "    # Create Stage 1 pipeline \n",
    "    stage1_pipeline = make_pipeline(classifier_pipe)\n",
    "    stage1_pipeline.fit(X_train, y_train)\n",
    "    diag_probability_pred = stage1_pipeline.predict_proba(X_test)\n",
    "\n",
    "    # Convert diag_probability_pred and X_test to a dataframe and reset index to concat \n",
    "    diag_probability_pred_df = pd.DataFrame(diag_probability_pred, columns=stage1_pipeline.classes_)\n",
    "    X_test_df = pd.DataFrame(X_test)\n",
    "\n",
    "    # Reset the index of the dataframes\n",
    "    diag_probability_pred_df.reset_index(drop=True, inplace=True)\n",
    "    X_test_df.reset_index(drop=True, inplace=True)\n",
    "\n",
    "    # Using the predicted diagnosis, create a new dataset to be used for stage 2 modelling\n",
    "    stage2_Xtrain = pd.concat([X_test_df, diag_probability_pred_df], axis = 1)\n",
    "\n",
    "    return stage2_Xtrain"
   ]
  },
  {
   "cell_type": "markdown",
   "metadata": {},
   "source": [
    "## Stage Two Modelling\n",
    "\n",
    "Regressor models predicting age using mri features and predicted diagnosis probabilities"
   ]
  },
  {
   "cell_type": "code",
   "execution_count": 35,
   "metadata": {},
   "outputs": [
    {
     "name": "stdout",
     "output_type": "stream",
     "text": [
      "\n",
      "--- Random Forest Regressor ---\n",
      "Stage one modelling complete         \n",
      "Hyperparameter tuning complete         \n",
      "Training and validation complete          \n",
      "--- Elastic Net ---\n",
      "Stage one modelling complete         \n",
      "Hyperparameter tuning in progress..."
     ]
    },
    {
     "name": "stderr",
     "output_type": "stream",
     "text": [
      "c:\\Users\\hanif\\anaconda3\\lib\\site-packages\\sklearn\\linear_model\\_coordinate_descent.py:678: ConvergenceWarning: Objective did not converge. You might want to increase the number of iterations, check the scale of the features or consider increasing regularisation. Duality gap: 1.971e+01, tolerance: 1.885e+00\n",
      "  model = cd_fast.enet_coordinate_descent(\n",
      "c:\\Users\\hanif\\anaconda3\\lib\\site-packages\\sklearn\\linear_model\\_coordinate_descent.py:678: ConvergenceWarning: Objective did not converge. You might want to increase the number of iterations, check the scale of the features or consider increasing regularisation. Duality gap: 7.440e+00, tolerance: 1.957e+00\n",
      "  model = cd_fast.enet_coordinate_descent(\n",
      "c:\\Users\\hanif\\anaconda3\\lib\\site-packages\\sklearn\\linear_model\\_coordinate_descent.py:678: ConvergenceWarning: Objective did not converge. You might want to increase the number of iterations, check the scale of the features or consider increasing regularisation. Duality gap: 6.891e+00, tolerance: 1.912e+00\n",
      "  model = cd_fast.enet_coordinate_descent(\n",
      "c:\\Users\\hanif\\anaconda3\\lib\\site-packages\\sklearn\\linear_model\\_coordinate_descent.py:678: ConvergenceWarning: Objective did not converge. You might want to increase the number of iterations, check the scale of the features or consider increasing regularisation. Duality gap: 2.644e+01, tolerance: 1.885e+00\n",
      "  model = cd_fast.enet_coordinate_descent(\n",
      "c:\\Users\\hanif\\anaconda3\\lib\\site-packages\\sklearn\\linear_model\\_coordinate_descent.py:678: ConvergenceWarning: Objective did not converge. You might want to increase the number of iterations, check the scale of the features or consider increasing regularisation. Duality gap: 1.850e+01, tolerance: 1.957e+00\n",
      "  model = cd_fast.enet_coordinate_descent(\n",
      "c:\\Users\\hanif\\anaconda3\\lib\\site-packages\\sklearn\\linear_model\\_coordinate_descent.py:678: ConvergenceWarning: Objective did not converge. You might want to increase the number of iterations, check the scale of the features or consider increasing regularisation. Duality gap: 4.904e+00, tolerance: 1.912e+00\n",
      "  model = cd_fast.enet_coordinate_descent(\n",
      "c:\\Users\\hanif\\anaconda3\\lib\\site-packages\\sklearn\\linear_model\\_coordinate_descent.py:678: ConvergenceWarning: Objective did not converge. You might want to increase the number of iterations, check the scale of the features or consider increasing regularisation. Duality gap: 2.844e+01, tolerance: 1.885e+00\n",
      "  model = cd_fast.enet_coordinate_descent(\n",
      "c:\\Users\\hanif\\anaconda3\\lib\\site-packages\\sklearn\\linear_model\\_coordinate_descent.py:678: ConvergenceWarning: Objective did not converge. You might want to increase the number of iterations, check the scale of the features or consider increasing regularisation. Duality gap: 1.586e+01, tolerance: 1.957e+00\n",
      "  model = cd_fast.enet_coordinate_descent(\n",
      "c:\\Users\\hanif\\anaconda3\\lib\\site-packages\\sklearn\\linear_model\\_coordinate_descent.py:678: ConvergenceWarning: Objective did not converge. You might want to increase the number of iterations, check the scale of the features or consider increasing regularisation. Duality gap: 4.972e+00, tolerance: 1.912e+00\n",
      "  model = cd_fast.enet_coordinate_descent(\n",
      "c:\\Users\\hanif\\anaconda3\\lib\\site-packages\\sklearn\\linear_model\\_coordinate_descent.py:678: ConvergenceWarning: Objective did not converge. You might want to increase the number of iterations, check the scale of the features or consider increasing regularisation. Duality gap: 1.360e+02, tolerance: 1.885e+00\n",
      "  model = cd_fast.enet_coordinate_descent(\n",
      "c:\\Users\\hanif\\anaconda3\\lib\\site-packages\\sklearn\\linear_model\\_coordinate_descent.py:678: ConvergenceWarning: Objective did not converge. You might want to increase the number of iterations, check the scale of the features or consider increasing regularisation. Duality gap: 6.977e+00, tolerance: 1.931e+00\n",
      "  model = cd_fast.enet_coordinate_descent(\n",
      "c:\\Users\\hanif\\anaconda3\\lib\\site-packages\\sklearn\\linear_model\\_coordinate_descent.py:678: ConvergenceWarning: Objective did not converge. You might want to increase the number of iterations, check the scale of the features or consider increasing regularisation. Duality gap: 1.536e+02, tolerance: 1.957e+00\n",
      "  model = cd_fast.enet_coordinate_descent(\n",
      "c:\\Users\\hanif\\anaconda3\\lib\\site-packages\\sklearn\\linear_model\\_coordinate_descent.py:678: ConvergenceWarning: Objective did not converge. You might want to increase the number of iterations, check the scale of the features or consider increasing regularisation. Duality gap: 9.177e+00, tolerance: 1.912e+00\n",
      "  model = cd_fast.enet_coordinate_descent(\n",
      "c:\\Users\\hanif\\anaconda3\\lib\\site-packages\\sklearn\\linear_model\\_coordinate_descent.py:678: ConvergenceWarning: Objective did not converge. You might want to increase the number of iterations, check the scale of the features or consider increasing regularisation. Duality gap: 2.657e+00, tolerance: 1.912e+00\n",
      "  model = cd_fast.enet_coordinate_descent(\n",
      "c:\\Users\\hanif\\anaconda3\\lib\\site-packages\\sklearn\\linear_model\\_coordinate_descent.py:678: ConvergenceWarning: Objective did not converge. You might want to increase the number of iterations, check the scale of the features or consider increasing regularisation. Duality gap: 2.641e+00, tolerance: 1.912e+00\n",
      "  model = cd_fast.enet_coordinate_descent(\n"
     ]
    },
    {
     "name": "stdout",
     "output_type": "stream",
     "text": [
      "Hyperparameter tuning complete         \n",
      "Training and validation complete          "
     ]
    }
   ],
   "source": [
    "# Define regressors\n",
    "regressors = [RandomForestRegressor(random_state = 0), ElasticNet(random_state = 0)]\n",
    "\n",
    "# Define regressor names for printing purposes\n",
    "regressor_names = ['Random Forest Regressor', 'Elastic Net']\n",
    "\n",
    "# Create parameter grid with all params I want to test for each model\n",
    "stage2_param_grid = [{  'selector__alpha': [0.085, 0.095, 0.1, 0.12],  # values of alpha for fclassif selector where p_values < alpha\n",
    "                        'regressor__n_estimators': [50, 100, 150],\n",
    "                        'regressor__max_depth': [None, 10, 20],\n",
    "                        'regressor__min_samples_split': [2, 5, 10]},\n",
    "\n",
    "                     {  'selector__alpha': [0.085, 0.095, 0.1, 0.12],\n",
    "                        'regressor__alpha': [0.1, 0.5, 1.0], \n",
    "                        'regressor__l1_ratio': [0.1, 0.5, 0.9]}]\n",
    "\n",
    "# Create empty dict to store important results after parameter tuning each model\n",
    "stage2_results = {   'training_features': [],               # Training Features - needed for pipeline analysis later on\n",
    "                     'optimised_classifiers': [],           # Optimised classifier \n",
    "                     'optimised_params': [],                # Best params\n",
    "                     'pipelines': [],                       # Trained pipelines - needed for pipeline analysis\n",
    "                     'true_values': [],                     # True y values - for analysis\n",
    "                     'predicted_values': []}                # Predicted y values - for analysis\n",
    "\n",
    "# Define X1_train and y1_train\n",
    "X1_train = stage1_features_trainval       # Take the all training X data (combined trainval) from stage one\n",
    "y1_train = stage1_diag_trainval           # Take the all training y data (combined trainval) from stage one\n",
    "\n",
    "# For loop to iterate through folds with different regressors to find the best regressor its optimal parameters\n",
    "for fold_idx, (X_train, X_val, y2_train, y2_val) in enumerate(zip(stage2_features_train, stage2_features_val, stage2_age_train, stage2_age_val)):\n",
    "    \n",
    "    # Printing current progress\n",
    "    print(f'\\n--- {regressor_names[fold_idx]} ---')\n",
    "    print('Stage one modelling in progress...', end = '', flush = True)\n",
    "\n",
    "    # Apply stage one modelling to create data for stage two training\n",
    "    X2_train = apply_stageone(X1_train, y1_train, X_train, best_classifier)\n",
    "    X2_val = apply_stageone(X1_train, y1_train, X_val, best_classifier)\n",
    "\n",
    "    # Append training features list\n",
    "    stage2_results['training_features'].append(X2_train)\n",
    "\n",
    "    print('\\rStage one modelling complete', end = '         ')  # Print progress\n",
    "    \n",
    "    # Define scaler, selector and regressor in prep for creating pipeline for parameter tuning \n",
    "    scaler = StandardScaler()           # Use standard scaler\n",
    "    selector = SelectFpr(f_classif)     # Feature selection using fclassif\n",
    "    regressor = regressors[fold_idx]    # Current focussed regressor\n",
    "    \n",
    "    # Define current param_grid in prep for parameter tuning\n",
    "    param_grid = stage2_param_grid[fold_idx]\n",
    "\n",
    "    # Create pipeline to parameter tune\n",
    "    search_pipe = Pipeline([\n",
    "        ('scaler', scaler),\n",
    "        ('selector', selector),\n",
    "        ('regressor', regressor)\n",
    "    ])\n",
    "\n",
    "    # Printing progress \n",
    "    print('\\nHyperparameter tuning in progress...', end = '', flush = True)\n",
    "    \n",
    "    # Nested Cross Validation for hyperparameter tuning\n",
    "    search = GridSearchCV(estimator = search_pipe, param_grid = param_grid) # Conduct grid search\n",
    "    search.fit(X2_train, y2_train)          # Fit grid search\n",
    "\n",
    "    print('\\rHyperparameter tuning complete', end = '         ')    # Printing progress\n",
    "    \n",
    "    best_model = search.best_estimator_     # Obtain best model found from parameter tuning\n",
    "\n",
    "    stage2_results['optimised_classifiers'].append(best_model)           # Assign to dict for later use\n",
    "    stage2_results['optimised_params'].append(search.best_params_)           # Assign best params for later use\n",
    "\n",
    "\n",
    "    print('\\nTraining and validation in progress...', end = '', flush = True)   # Printing progress\n",
    "\n",
    "    # Create pipeline using the best model\n",
    "    pipe = make_pipeline(best_model)\n",
    "    pipe.fit(X2_train, y2_train)            # Train pipeline using training data\n",
    "    y2_val_pred = pipe.predict(X2_val)       # Predict age for validation data using pipeline\n",
    "\n",
    "    # Store the pipeline, true values and predicted values in dict\n",
    "    stage2_results['pipelines'].append(pipe)\n",
    "    stage2_results['true_values'].append(y2_val)\n",
    "    stage2_results['predicted_values'].append(y2_val_pred)\n",
    "\n",
    "    print('\\rTraining and validation complete', end = '          ', flush = True)       # Print progress"
   ]
  },
  {
   "cell_type": "markdown",
   "metadata": {},
   "source": [
    "## Regressor Model Analysis\n",
    "\n",
    "Find the % error to be able to compare errors across each model - as the data used to calculate errors are not eaxctly the same"
   ]
  },
  {
   "cell_type": "code",
   "execution_count": 41,
   "metadata": {},
   "outputs": [],
   "source": [
    "# Initialise dictionary to store scores (will turn into df later)\n",
    "regressor_percentage_errors = []\n",
    "mean_percentage_error = []\n",
    "\n",
    "# Initialise empty lists to store confusion matrices and selected features for each classifier\n",
    "selected_features_regressor = []\n",
    "\n",
    "for regressor_pipeline in range(stage2_no_models):\n",
    "    true_values = stage2_results['true_values'][regressor_pipeline]              # Extract true values for current fold\n",
    "    predicted_values = stage2_results['predicted_values'][regressor_pipeline]    # Extract the predicted values for current fold\n",
    "\n",
    "    ## Percentage Errors ##\n",
    "\n",
    "    # Calculate absolute percentage errors\n",
    "    p_errors = np.abs((predicted_values-true_values) / true_values) * 100       # List of absolute percentage errors\n",
    "\n",
    "    # Store percentage error and the mean percentage error in lists for each regressor\n",
    "    regressor_percentage_errors.append(p_errors)\n",
    "    mean_percentage_error.append(np.mean(p_errors))"
   ]
  },
  {
   "cell_type": "code",
   "execution_count": 42,
   "metadata": {},
   "outputs": [
    {
     "data": {
      "image/png": "[encoded data removed]",
      "text/plain": [
       "<Figure size 640x480 with 1 Axes>"
      ]
     },
     "metadata": {},
     "output_type": "display_data"
    },
    {
     "name": "stdout",
     "output_type": "stream",
     "text": [
      "count    114.000000\n",
      "mean       7.111352\n",
      "std        6.148025\n",
      "min        0.043103\n",
      "25%        2.476979\n",
      "50%        5.926149\n",
      "75%        9.900260\n",
      "max       30.440000\n",
      "Name: Age, dtype: float64\n",
      "count    114.000000\n",
      "mean       7.272696\n",
      "std        7.167078\n",
      "min        0.038955\n",
      "25%        2.424736\n",
      "50%        5.719644\n",
      "75%        9.753825\n",
      "max       48.322131\n",
      "Name: Age, dtype: float64\n"
     ]
    }
   ],
   "source": [
    "# Plot the % error for each group to compare the distributions\n",
    "\n",
    "# Define bin edges to keep the bars same width\n",
    "bin_edges = np.arange(0, 52.5, 2.5)\n",
    "\n",
    "# Plot histograms overlaying for both models\n",
    "plt.hist(regressor_percentage_errors[0], color='blue', alpha=0.5, label='Random Forest Regressor', bins = bin_edges)\n",
    "plt.hist(regressor_percentage_errors[1], color='orange', alpha=0.5, label='Elastic Net Regressor', bins = bin_edges)\n",
    "\n",
    "# Add labels\n",
    "plt.xlabel('Percentage Error')                  # x label\n",
    "plt.ylabel('Frequency')                         # y label\n",
    "plt.title('Distribution of Percentage Errors')  # Title\n",
    "plt.legend()                                    # Colour code the bars to each model\n",
    "plt.show()                                      # Display plot\n",
    "\n",
    "# Print the mean and distributions for each model\n",
    "print(regressor_percentage_errors[0].describe())    \n",
    "print(regressor_percentage_errors[1].describe())\n"
   ]
  },
  {
   "cell_type": "markdown",
   "metadata": {},
   "source": [
    "Most errors are centered around 0% which is good. RFC has a lower error rate by a small marginal amount"
   ]
  },
  {
   "cell_type": "code",
   "execution_count": 43,
   "metadata": {},
   "outputs": [
    {
     "name": "stdout",
     "output_type": "stream",
     "text": [
      "The best regressor is: Pipeline(steps=[('scaler', StandardScaler()),\n",
      "                ('selector', SelectFpr(alpha=0.1)),\n",
      "                ('regressor',\n",
      "                 RandomForestRegressor(max_depth=20, n_estimators=150,\n",
      "                                       random_state=0))])\n",
      " The optimal parameters are: {'regressor__max_depth': 20, 'regressor__min_samples_split': 2, 'regressor__n_estimators': 150, 'selector__alpha': 0.1}\n"
     ]
    }
   ],
   "source": [
    "# Finding the best regressor of all:\n",
    "# We can compare % error as it is relative\n",
    "best_regressor_ind = mean_percentage_error.index(min(mean_percentage_error))\n",
    "best_regressor = stage2_results['optimised_classifiers'][best_regressor_ind]\n",
    "\n",
    "print(f\"The best regressor is: {best_regressor}\\n\",\n",
    "        f\"The optimal parameters are: {stage2_results['optimised_params'][best_regressor_ind]}\")"
   ]
  },
  {
   "cell_type": "markdown",
   "metadata": {},
   "source": [
    "## Final Pipeline Test\n",
    "\n",
    "Apply the previously trained pipelines to the test data and see how well it performs overall"
   ]
  },
  {
   "cell_type": "code",
   "execution_count": 44,
   "metadata": {},
   "outputs": [],
   "source": [
    "# Apply stage one to get the diagnosis predictions for the test\n",
    "# Stage two pipeline will be applied to this to predict the data\n",
    "X2_test = apply_stageone(X1_train, y1_train, features_test, best_classifier)\n",
    "\n",
    "# Apply stage one to get the diagnosis predictions for stage two trainval set\n",
    "# This set will be used to train for stage two\n",
    "# Random seeds were generated, so the training should be the same as before\n",
    "X2_train = apply_stageone(X1_train, y1_train, stage2_features_trainval, best_classifier)\n",
    "y2_train = stage2_age_trainval\n",
    "\n",
    "# Train stage two regressor using whole stage two training set \n",
    "best_regressor.fit(X2_train, y2_train)\n",
    "\n",
    "# Create predictions on test using the fitted pipeline\n",
    "test_pred = best_regressor.predict(X2_test)"
   ]
  },
  {
   "cell_type": "code",
   "execution_count": 45,
   "metadata": {},
   "outputs": [
    {
     "name": "stdout",
     "output_type": "stream",
     "text": [
      "The mean absolute percentage: 6.81% \n",
      "Root mean squared error: 6.25\n"
     ]
    }
   ],
   "source": [
    "# Print the mean absolute percentage error\n",
    "print(f'The mean absolute percentage: {round(mean_absolute_percentage_error(age_test, test_pred)*100, 2)}%', \n",
    "      \n",
    "      # Root Mean Square Error - To look at how far off case model predictions deviate from true values\n",
    "      f'\\nRoot mean squared error: {round(np.sqrt(mean_squared_error(age_test, test_pred)), 2)}')"
   ]
  },
  {
   "cell_type": "markdown",
   "metadata": {},
   "source": [
    "The % is not too high, but could be better overall. Root mean error is ok, but again could be better"
   ]
  },
  {
   "cell_type": "markdown",
   "metadata": {},
   "source": [
    "End of Script"
   ]
  }
 ],
 "metadata": {
  "kernelspec": {
   "display_name": "base",
   "language": "python",
   "name": "python3"
  },
  "language_info": {
   "codemirror_mode": {
    "name": "ipython",
    "version": 3
   },
   "file_extension": ".py",
   "mimetype": "text/x-python",
   "name": "python",
   "nbconvert_exporter": "python",
   "pygments_lexer": "ipython3",
   "version": "3.9.13"
  }
 },
 "nbformat": 4,
 "nbformat_minor": 2
}
